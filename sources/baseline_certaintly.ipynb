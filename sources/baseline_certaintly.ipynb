{
 "cells": [
  {
   "cell_type": "code",
   "execution_count": 1,
   "id": "45b50f48-cbee-4fa9-8884-9003d20fe4d1",
   "metadata": {
    "execution": {
     "iopub.execute_input": "2025-06-18T23:59:42.653908Z",
     "iopub.status.busy": "2025-06-18T23:59:42.653365Z",
     "iopub.status.idle": "2025-06-18T23:59:54.328136Z",
     "shell.execute_reply": "2025-06-18T23:59:54.326793Z",
     "shell.execute_reply.started": "2025-06-18T23:59:42.653811Z"
    }
   },
   "outputs": [
    {
     "name": "stderr",
     "output_type": "stream",
     "text": [
      "2025-06-18 23:59:49.220647: E external/local_xla/xla/stream_executor/cuda/cuda_dnn.cc:9261] Unable to register cuDNN factory: Attempting to register factory for plugin cuDNN when one has already been registered\n",
      "2025-06-18 23:59:49.220724: E external/local_xla/xla/stream_executor/cuda/cuda_fft.cc:607] Unable to register cuFFT factory: Attempting to register factory for plugin cuFFT when one has already been registered\n",
      "2025-06-18 23:59:49.222375: E external/local_xla/xla/stream_executor/cuda/cuda_blas.cc:1515] Unable to register cuBLAS factory: Attempting to register factory for plugin cuBLAS when one has already been registered\n",
      "2025-06-18 23:59:49.233565: I tensorflow/core/platform/cpu_feature_guard.cc:182] This TensorFlow binary is optimized to use available CPU instructions in performance-critical operations.\n",
      "To enable the following instructions: AVX2 FMA, in other operations, rebuild TensorFlow with the appropriate compiler flags.\n",
      "2025-06-18 23:59:51.225398: W tensorflow/compiler/tf2tensorrt/utils/py_utils.cc:38] TF-TRT Warning: Could not find TensorRT\n"
     ]
    }
   ],
   "source": [
    "import torch\n",
    "import pandas as pd\n",
    "from transformers import (\n",
    "    RobertaTokenizerFast,\n",
    "    RobertaForSequenceClassification,\n",
    "    TrainingArguments,\n",
    "    Trainer,\n",
    "    AutoConfig,\n",
    ")"
   ]
  },
  {
   "cell_type": "code",
   "execution_count": 2,
   "id": "1eb78f52-473d-4d5b-af00-2f224f2a4f7a",
   "metadata": {
    "execution": {
     "iopub.execute_input": "2025-06-18T23:59:56.498932Z",
     "iopub.status.busy": "2025-06-18T23:59:56.498063Z",
     "iopub.status.idle": "2025-06-18T23:59:56.504593Z",
     "shell.execute_reply": "2025-06-18T23:59:56.503217Z",
     "shell.execute_reply.started": "2025-06-18T23:59:56.498891Z"
    }
   },
   "outputs": [],
   "source": [
    "model_id = \"roberta-base\""
   ]
  },
  {
   "cell_type": "code",
   "execution_count": 4,
   "id": "c802cd56-4093-4de0-8072-d7f64507d5c9",
   "metadata": {
    "execution": {
     "iopub.execute_input": "2025-06-19T00:03:48.749777Z",
     "iopub.status.busy": "2025-06-19T00:03:48.748942Z",
     "iopub.status.idle": "2025-06-19T00:03:48.790947Z",
     "shell.execute_reply": "2025-06-19T00:03:48.789518Z",
     "shell.execute_reply.started": "2025-06-19T00:03:48.749728Z"
    }
   },
   "outputs": [],
   "source": [
    "train_dataset = pd.read_csv('../data/certainty_train.csv', index_col=0)\n",
    "train_dataset.label = pd.Categorical(train_dataset.label)\n",
    "train_dataset[\"labels\"] = 0\n",
    "train_dataset.loc[train_dataset[\"label\"] == \"Certain\", \"labels\"] = 0\n",
    "train_dataset.loc[train_dataset[\"label\"] == \"Somewhat certain\", \"labels\"] = 1\n",
    "train_dataset.loc[train_dataset[\"label\"] == \"Somewhat uncertain\", \"labels\"] = 2\n",
    "train_dataset.loc[train_dataset[\"label\"] == \"Uncertain\", \"labels\"] = 3\n",
    "train_dataset = train_dataset.drop(columns=['label'])\n",
    "\n",
    "test_dataset = pd.read_csv('../data/certainty_test.csv', index_col=0)\n",
    "test_dataset.label = pd.Categorical(test_dataset.label)\n",
    "test_dataset[\"labels\"] = 0\n",
    "test_dataset.loc[test_dataset[\"label\"] == \"Certain\", \"labels\"] = 0\n",
    "test_dataset.loc[test_dataset[\"label\"] == \"Somewhat certain\", \"labels\"] = 1\n",
    "test_dataset.loc[test_dataset[\"label\"] == \"Somewhat uncertain\", \"labels\"] = 2\n",
    "test_dataset.loc[test_dataset[\"label\"] == \"Uncertain\", \"labels\"] = 3\n",
    "test_dataset = test_dataset.drop(columns=['label'])"
   ]
  },
  {
   "cell_type": "code",
   "execution_count": 5,
   "id": "9e4a8edd-13d5-4b6e-8c64-0cdf3b9511f9",
   "metadata": {
    "execution": {
     "iopub.execute_input": "2025-06-19T00:04:05.140237Z",
     "iopub.status.busy": "2025-06-19T00:04:05.139744Z",
     "iopub.status.idle": "2025-06-19T00:04:05.174030Z",
     "shell.execute_reply": "2025-06-19T00:04:05.172687Z",
     "shell.execute_reply.started": "2025-06-19T00:04:05.140195Z"
    }
   },
   "outputs": [],
   "source": [
    "from datasets import Dataset\n",
    "\n",
    "train_dataset = Dataset.from_pandas(train_dataset)\n",
    "test_dataset = Dataset.from_pandas(test_dataset)"
   ]
  },
  {
   "cell_type": "code",
   "execution_count": 6,
   "id": "7e186b1d-d70b-4374-9a39-11799c7312f5",
   "metadata": {
    "execution": {
     "iopub.execute_input": "2025-06-19T00:04:13.643297Z",
     "iopub.status.busy": "2025-06-19T00:04:13.642393Z",
     "iopub.status.idle": "2025-06-19T00:04:14.556408Z",
     "shell.execute_reply": "2025-06-19T00:04:14.555203Z",
     "shell.execute_reply.started": "2025-06-19T00:04:13.643250Z"
    }
   },
   "outputs": [
    {
     "data": {
      "application/vnd.jupyter.widget-view+json": {
       "model_id": "99c38c138e1742718e0452c4536af47d",
       "version_major": 2,
       "version_minor": 0
      },
      "text/plain": [
       "tokenizer_config.json:   0%|          | 0.00/25.0 [00:00<?, ?B/s]"
      ]
     },
     "metadata": {},
     "output_type": "display_data"
    },
    {
     "data": {
      "application/vnd.jupyter.widget-view+json": {
       "model_id": "ad47f18ede2d423c8f8189f60802e73e",
       "version_major": 2,
       "version_minor": 0
      },
      "text/plain": [
       "vocab.json:   0%|          | 0.00/899k [00:00<?, ?B/s]"
      ]
     },
     "metadata": {},
     "output_type": "display_data"
    },
    {
     "data": {
      "application/vnd.jupyter.widget-view+json": {
       "model_id": "a8699e3b2673461fa5109c4119a2f45a",
       "version_major": 2,
       "version_minor": 0
      },
      "text/plain": [
       "merges.txt:   0%|          | 0.00/456k [00:00<?, ?B/s]"
      ]
     },
     "metadata": {},
     "output_type": "display_data"
    },
    {
     "data": {
      "application/vnd.jupyter.widget-view+json": {
       "model_id": "f1b60c7585944d9eae79801335dbd422",
       "version_major": 2,
       "version_minor": 0
      },
      "text/plain": [
       "tokenizer.json:   0%|          | 0.00/1.36M [00:00<?, ?B/s]"
      ]
     },
     "metadata": {},
     "output_type": "display_data"
    },
    {
     "data": {
      "application/vnd.jupyter.widget-view+json": {
       "model_id": "869bbf7859d54ad8b07b145b506c49d2",
       "version_major": 2,
       "version_minor": 0
      },
      "text/plain": [
       "config.json:   0%|          | 0.00/481 [00:00<?, ?B/s]"
      ]
     },
     "metadata": {},
     "output_type": "display_data"
    }
   ],
   "source": [
    "# Preprocessing\n",
    "tokenizer = RobertaTokenizerFast.from_pretrained(model_id)\n",
    "\n",
    "# This function tokenizes the input text using the RoBERTa tokenizer.\n",
    "# It applies padding and truncation to ensure that all sequences have the same length (256 tokens).\n",
    "def tokenize(batch):\n",
    "    return tokenizer(batch[\"finding\"], padding=True, truncation=True, max_length=1536)"
   ]
  },
  {
   "cell_type": "code",
   "execution_count": 7,
   "id": "9357bb32-5bf4-4f76-8987-7e8f3d8f528d",
   "metadata": {
    "execution": {
     "iopub.execute_input": "2025-06-19T00:04:28.095675Z",
     "iopub.status.busy": "2025-06-19T00:04:28.095164Z",
     "iopub.status.idle": "2025-06-19T00:04:28.681245Z",
     "shell.execute_reply": "2025-06-19T00:04:28.679701Z",
     "shell.execute_reply.started": "2025-06-19T00:04:28.095634Z"
    }
   },
   "outputs": [
    {
     "data": {
      "application/vnd.jupyter.widget-view+json": {
       "model_id": "5c663592a1c04739abdf352fe84250d2",
       "version_major": 2,
       "version_minor": 0
      },
      "text/plain": [
       "Map:   0%|          | 0/1340 [00:00<?, ? examples/s]"
      ]
     },
     "metadata": {},
     "output_type": "display_data"
    },
    {
     "data": {
      "application/vnd.jupyter.widget-view+json": {
       "model_id": "d3ab198493354d789093d382f8e4ff8b",
       "version_major": 2,
       "version_minor": 0
      },
      "text/plain": [
       "Map:   0%|          | 0/334 [00:00<?, ? examples/s]"
      ]
     },
     "metadata": {},
     "output_type": "display_data"
    }
   ],
   "source": [
    "train_dataset = train_dataset.map(tokenize, batched=True, batch_size=len(train_dataset))\n",
    "test_dataset = test_dataset.map(tokenize, batched=True, batch_size=len(test_dataset))"
   ]
  },
  {
   "cell_type": "code",
   "execution_count": 8,
   "id": "4ebc1259-887e-49b0-8efd-55e4509ff870",
   "metadata": {
    "execution": {
     "iopub.execute_input": "2025-06-19T00:04:43.748615Z",
     "iopub.status.busy": "2025-06-19T00:04:43.748148Z",
     "iopub.status.idle": "2025-06-19T00:04:43.759354Z",
     "shell.execute_reply": "2025-06-19T00:04:43.757082Z",
     "shell.execute_reply.started": "2025-06-19T00:04:43.748575Z"
    }
   },
   "outputs": [],
   "source": [
    "train_dataset.set_format(\"torch\", columns=[\"input_ids\", \"attention_mask\", \"labels\"])\n",
    "test_dataset.set_format(\"torch\", columns=[\"input_ids\", \"attention_mask\", \"labels\"])"
   ]
  },
  {
   "cell_type": "code",
   "execution_count": 9,
   "id": "c1d429c6-28f6-4eba-a297-f9452298c9f2",
   "metadata": {
    "execution": {
     "iopub.execute_input": "2025-06-19T00:05:22.937339Z",
     "iopub.status.busy": "2025-06-19T00:05:22.936844Z",
     "iopub.status.idle": "2025-06-19T00:05:22.973509Z",
     "shell.execute_reply": "2025-06-19T00:05:22.972086Z",
     "shell.execute_reply.started": "2025-06-19T00:05:22.937291Z"
    }
   },
   "outputs": [],
   "source": [
    "# # Create an id2label mapping\n",
    "id2label = {0: \"Certain\", 1: \"Somewhat certain\", 2: \"Somewhat uncertain\", 3: \"Uncertain\"}\n",
    "\n",
    "# Update the model's configuration with the id2label mapping\n",
    "config = AutoConfig.from_pretrained(model_id)\n",
    "config.update({\"id2label\": id2label})"
   ]
  },
  {
   "cell_type": "code",
   "execution_count": 10,
   "id": "08eb4604-923a-4362-9846-63b26092264c",
   "metadata": {
    "execution": {
     "iopub.execute_input": "2025-06-19T00:05:31.323253Z",
     "iopub.status.busy": "2025-06-19T00:05:31.322823Z",
     "iopub.status.idle": "2025-06-19T00:05:36.837959Z",
     "shell.execute_reply": "2025-06-19T00:05:36.836931Z",
     "shell.execute_reply.started": "2025-06-19T00:05:31.323211Z"
    }
   },
   "outputs": [
    {
     "data": {
      "application/vnd.jupyter.widget-view+json": {
       "model_id": "c91f53978ec14f02adff54e2d23853b6",
       "version_major": 2,
       "version_minor": 0
      },
      "text/plain": [
       "model.safetensors:   0%|          | 0.00/499M [00:00<?, ?B/s]"
      ]
     },
     "metadata": {},
     "output_type": "display_data"
    },
    {
     "name": "stderr",
     "output_type": "stream",
     "text": [
      "Some weights of RobertaForSequenceClassification were not initialized from the model checkpoint at roberta-base and are newly initialized: ['classifier.out_proj.bias', 'classifier.dense.weight', 'classifier.out_proj.weight', 'classifier.dense.bias']\n",
      "You should probably TRAIN this model on a down-stream task to be able to use it for predictions and inference.\n"
     ]
    }
   ],
   "source": [
    "# Model\n",
    "model = RobertaForSequenceClassification.from_pretrained(model_id, config=config)\n",
    "\n",
    "# TrainingArguments\n",
    "training_args = TrainingArguments(\n",
    "    output_dir=\"../out\",\n",
    "    num_train_epochs=5,\n",
    "    per_device_train_batch_size=8,\n",
    "    per_device_eval_batch_size=8,\n",
    "    logging_dir=f\"../logs\",\n",
    "    logging_strategy=\"steps\",\n",
    "    logging_steps=10,\n",
    "    learning_rate=2e-5,\n",
    "    weight_decay=0.01,\n",
    "    warmup_steps=200,\n",
    ")\n",
    "\n",
    "# Trainer\n",
    "trainer = Trainer(\n",
    "    model=model,\n",
    "    args=training_args,\n",
    "    train_dataset=train_dataset,\n",
    "    eval_dataset=train_dataset,\n",
    ")"
   ]
  },
  {
   "cell_type": "code",
   "execution_count": 11,
   "id": "f01ca77e-fb7c-4f42-86ec-74977baf5d67",
   "metadata": {
    "execution": {
     "iopub.execute_input": "2025-06-19T00:05:39.020262Z",
     "iopub.status.busy": "2025-06-19T00:05:39.019814Z",
     "iopub.status.idle": "2025-06-19T00:12:40.212777Z",
     "shell.execute_reply": "2025-06-19T00:12:40.211398Z",
     "shell.execute_reply.started": "2025-06-19T00:05:39.020225Z"
    }
   },
   "outputs": [
    {
     "name": "stderr",
     "output_type": "stream",
     "text": [
      "\u001b[34m\u001b[1mwandb\u001b[0m: Logging into wandb.ai. (Learn how to deploy a W&B server locally: https://wandb.me/wandb-server)\n",
      "\u001b[34m\u001b[1mwandb\u001b[0m: You can find your API key in your browser here: https://wandb.ai/authorize\n",
      "\u001b[34m\u001b[1mwandb\u001b[0m: Paste an API key from your profile and hit enter, or press ctrl+c to quit:"
     ]
    },
    {
     "name": "stdin",
     "output_type": "stream",
     "text": [
      "  ········································\n"
     ]
    },
    {
     "name": "stderr",
     "output_type": "stream",
     "text": [
      "\u001b[34m\u001b[1mwandb\u001b[0m: Appending key for api.wandb.ai to your netrc file: /root/.netrc\n"
     ]
    },
    {
     "data": {
      "application/vnd.jupyter.widget-view+json": {
       "model_id": "57aace43f87b4b3b8e8e4bbb48f7b8a5",
       "version_major": 2,
       "version_minor": 0
      },
      "text/plain": [
       "VBox(children=(Label(value='Waiting for wandb.init()...\\r'), FloatProgress(value=0.011113861345479058, max=1.0…"
      ]
     },
     "metadata": {},
     "output_type": "display_data"
    },
    {
     "data": {
      "text/html": [
       "wandb version 0.20.1 is available!  To upgrade, please run:\n",
       " $ pip install wandb --upgrade"
      ],
      "text/plain": [
       "<IPython.core.display.HTML object>"
      ]
     },
     "metadata": {},
     "output_type": "display_data"
    },
    {
     "data": {
      "text/html": [
       "Tracking run with wandb version 0.15.10"
      ],
      "text/plain": [
       "<IPython.core.display.HTML object>"
      ]
     },
     "metadata": {},
     "output_type": "display_data"
    },
    {
     "data": {
      "text/html": [
       "Run data is saved locally in <code>/notebooks/notebooks/wandb/run-20250619_000642-m8ag9qio</code>"
      ],
      "text/plain": [
       "<IPython.core.display.HTML object>"
      ]
     },
     "metadata": {},
     "output_type": "display_data"
    },
    {
     "data": {
      "text/html": [
       "Syncing run <strong><a href='https://wandb.ai/hanna-yakusevych-university-of-edinburgh/huggingface/runs/m8ag9qio' target=\"_blank\">blooming-moon-4</a></strong> to <a href='https://wandb.ai/hanna-yakusevych-university-of-edinburgh/huggingface' target=\"_blank\">Weights & Biases</a> (<a href='https://wandb.me/run' target=\"_blank\">docs</a>)<br/>"
      ],
      "text/plain": [
       "<IPython.core.display.HTML object>"
      ]
     },
     "metadata": {},
     "output_type": "display_data"
    },
    {
     "data": {
      "text/html": [
       " View project at <a href='https://wandb.ai/hanna-yakusevych-university-of-edinburgh/huggingface' target=\"_blank\">https://wandb.ai/hanna-yakusevych-university-of-edinburgh/huggingface</a>"
      ],
      "text/plain": [
       "<IPython.core.display.HTML object>"
      ]
     },
     "metadata": {},
     "output_type": "display_data"
    },
    {
     "data": {
      "text/html": [
       " View run at <a href='https://wandb.ai/hanna-yakusevych-university-of-edinburgh/huggingface/runs/m8ag9qio' target=\"_blank\">https://wandb.ai/hanna-yakusevych-university-of-edinburgh/huggingface/runs/m8ag9qio</a>"
      ],
      "text/plain": [
       "<IPython.core.display.HTML object>"
      ]
     },
     "metadata": {},
     "output_type": "display_data"
    },
    {
     "data": {
      "text/html": [
       "\n",
       "    <div>\n",
       "      \n",
       "      <progress value='840' max='840' style='width:300px; height:20px; vertical-align: middle;'></progress>\n",
       "      [840/840 05:51, Epoch 5/5]\n",
       "    </div>\n",
       "    <table border=\"1\" class=\"dataframe\">\n",
       "  <thead>\n",
       " <tr style=\"text-align: left;\">\n",
       "      <th>Step</th>\n",
       "      <th>Training Loss</th>\n",
       "    </tr>\n",
       "  </thead>\n",
       "  <tbody>\n",
       "    <tr>\n",
       "      <td>10</td>\n",
       "      <td>1.348800</td>\n",
       "    </tr>\n",
       "    <tr>\n",
       "      <td>20</td>\n",
       "      <td>1.374900</td>\n",
       "    </tr>\n",
       "    <tr>\n",
       "      <td>30</td>\n",
       "      <td>1.351000</td>\n",
       "    </tr>\n",
       "    <tr>\n",
       "      <td>40</td>\n",
       "      <td>1.344700</td>\n",
       "    </tr>\n",
       "    <tr>\n",
       "      <td>50</td>\n",
       "      <td>1.309000</td>\n",
       "    </tr>\n",
       "    <tr>\n",
       "      <td>60</td>\n",
       "      <td>1.275800</td>\n",
       "    </tr>\n",
       "    <tr>\n",
       "      <td>70</td>\n",
       "      <td>1.264700</td>\n",
       "    </tr>\n",
       "    <tr>\n",
       "      <td>80</td>\n",
       "      <td>1.222600</td>\n",
       "    </tr>\n",
       "    <tr>\n",
       "      <td>90</td>\n",
       "      <td>1.186200</td>\n",
       "    </tr>\n",
       "    <tr>\n",
       "      <td>100</td>\n",
       "      <td>1.123400</td>\n",
       "    </tr>\n",
       "    <tr>\n",
       "      <td>110</td>\n",
       "      <td>1.094300</td>\n",
       "    </tr>\n",
       "    <tr>\n",
       "      <td>120</td>\n",
       "      <td>1.136400</td>\n",
       "    </tr>\n",
       "    <tr>\n",
       "      <td>130</td>\n",
       "      <td>1.306500</td>\n",
       "    </tr>\n",
       "    <tr>\n",
       "      <td>140</td>\n",
       "      <td>1.149200</td>\n",
       "    </tr>\n",
       "    <tr>\n",
       "      <td>150</td>\n",
       "      <td>1.193400</td>\n",
       "    </tr>\n",
       "    <tr>\n",
       "      <td>160</td>\n",
       "      <td>1.176000</td>\n",
       "    </tr>\n",
       "    <tr>\n",
       "      <td>170</td>\n",
       "      <td>1.105000</td>\n",
       "    </tr>\n",
       "    <tr>\n",
       "      <td>180</td>\n",
       "      <td>1.195100</td>\n",
       "    </tr>\n",
       "    <tr>\n",
       "      <td>190</td>\n",
       "      <td>1.092200</td>\n",
       "    </tr>\n",
       "    <tr>\n",
       "      <td>200</td>\n",
       "      <td>1.147100</td>\n",
       "    </tr>\n",
       "    <tr>\n",
       "      <td>210</td>\n",
       "      <td>1.043500</td>\n",
       "    </tr>\n",
       "    <tr>\n",
       "      <td>220</td>\n",
       "      <td>1.162100</td>\n",
       "    </tr>\n",
       "    <tr>\n",
       "      <td>230</td>\n",
       "      <td>1.247600</td>\n",
       "    </tr>\n",
       "    <tr>\n",
       "      <td>240</td>\n",
       "      <td>1.205900</td>\n",
       "    </tr>\n",
       "    <tr>\n",
       "      <td>250</td>\n",
       "      <td>1.105700</td>\n",
       "    </tr>\n",
       "    <tr>\n",
       "      <td>260</td>\n",
       "      <td>1.050400</td>\n",
       "    </tr>\n",
       "    <tr>\n",
       "      <td>270</td>\n",
       "      <td>1.046200</td>\n",
       "    </tr>\n",
       "    <tr>\n",
       "      <td>280</td>\n",
       "      <td>1.101900</td>\n",
       "    </tr>\n",
       "    <tr>\n",
       "      <td>290</td>\n",
       "      <td>1.062700</td>\n",
       "    </tr>\n",
       "    <tr>\n",
       "      <td>300</td>\n",
       "      <td>1.059100</td>\n",
       "    </tr>\n",
       "    <tr>\n",
       "      <td>310</td>\n",
       "      <td>1.069400</td>\n",
       "    </tr>\n",
       "    <tr>\n",
       "      <td>320</td>\n",
       "      <td>1.094100</td>\n",
       "    </tr>\n",
       "    <tr>\n",
       "      <td>330</td>\n",
       "      <td>1.001300</td>\n",
       "    </tr>\n",
       "    <tr>\n",
       "      <td>340</td>\n",
       "      <td>0.971500</td>\n",
       "    </tr>\n",
       "    <tr>\n",
       "      <td>350</td>\n",
       "      <td>1.149700</td>\n",
       "    </tr>\n",
       "    <tr>\n",
       "      <td>360</td>\n",
       "      <td>0.908800</td>\n",
       "    </tr>\n",
       "    <tr>\n",
       "      <td>370</td>\n",
       "      <td>0.923900</td>\n",
       "    </tr>\n",
       "    <tr>\n",
       "      <td>380</td>\n",
       "      <td>0.966800</td>\n",
       "    </tr>\n",
       "    <tr>\n",
       "      <td>390</td>\n",
       "      <td>0.912200</td>\n",
       "    </tr>\n",
       "    <tr>\n",
       "      <td>400</td>\n",
       "      <td>0.995700</td>\n",
       "    </tr>\n",
       "    <tr>\n",
       "      <td>410</td>\n",
       "      <td>0.891400</td>\n",
       "    </tr>\n",
       "    <tr>\n",
       "      <td>420</td>\n",
       "      <td>0.742300</td>\n",
       "    </tr>\n",
       "    <tr>\n",
       "      <td>430</td>\n",
       "      <td>0.966500</td>\n",
       "    </tr>\n",
       "    <tr>\n",
       "      <td>440</td>\n",
       "      <td>0.962600</td>\n",
       "    </tr>\n",
       "    <tr>\n",
       "      <td>450</td>\n",
       "      <td>0.857400</td>\n",
       "    </tr>\n",
       "    <tr>\n",
       "      <td>460</td>\n",
       "      <td>0.870100</td>\n",
       "    </tr>\n",
       "    <tr>\n",
       "      <td>470</td>\n",
       "      <td>0.963900</td>\n",
       "    </tr>\n",
       "    <tr>\n",
       "      <td>480</td>\n",
       "      <td>0.858900</td>\n",
       "    </tr>\n",
       "    <tr>\n",
       "      <td>490</td>\n",
       "      <td>0.916300</td>\n",
       "    </tr>\n",
       "    <tr>\n",
       "      <td>500</td>\n",
       "      <td>1.005500</td>\n",
       "    </tr>\n",
       "    <tr>\n",
       "      <td>510</td>\n",
       "      <td>0.807600</td>\n",
       "    </tr>\n",
       "    <tr>\n",
       "      <td>520</td>\n",
       "      <td>0.761100</td>\n",
       "    </tr>\n",
       "    <tr>\n",
       "      <td>530</td>\n",
       "      <td>0.694800</td>\n",
       "    </tr>\n",
       "    <tr>\n",
       "      <td>540</td>\n",
       "      <td>0.714500</td>\n",
       "    </tr>\n",
       "    <tr>\n",
       "      <td>550</td>\n",
       "      <td>0.725900</td>\n",
       "    </tr>\n",
       "    <tr>\n",
       "      <td>560</td>\n",
       "      <td>0.709900</td>\n",
       "    </tr>\n",
       "    <tr>\n",
       "      <td>570</td>\n",
       "      <td>0.846100</td>\n",
       "    </tr>\n",
       "    <tr>\n",
       "      <td>580</td>\n",
       "      <td>0.801100</td>\n",
       "    </tr>\n",
       "    <tr>\n",
       "      <td>590</td>\n",
       "      <td>0.860000</td>\n",
       "    </tr>\n",
       "    <tr>\n",
       "      <td>600</td>\n",
       "      <td>0.657500</td>\n",
       "    </tr>\n",
       "    <tr>\n",
       "      <td>610</td>\n",
       "      <td>0.822900</td>\n",
       "    </tr>\n",
       "    <tr>\n",
       "      <td>620</td>\n",
       "      <td>0.812900</td>\n",
       "    </tr>\n",
       "    <tr>\n",
       "      <td>630</td>\n",
       "      <td>0.733200</td>\n",
       "    </tr>\n",
       "    <tr>\n",
       "      <td>640</td>\n",
       "      <td>0.792700</td>\n",
       "    </tr>\n",
       "    <tr>\n",
       "      <td>650</td>\n",
       "      <td>0.770000</td>\n",
       "    </tr>\n",
       "    <tr>\n",
       "      <td>660</td>\n",
       "      <td>0.781400</td>\n",
       "    </tr>\n",
       "    <tr>\n",
       "      <td>670</td>\n",
       "      <td>0.718000</td>\n",
       "    </tr>\n",
       "    <tr>\n",
       "      <td>680</td>\n",
       "      <td>0.561200</td>\n",
       "    </tr>\n",
       "    <tr>\n",
       "      <td>690</td>\n",
       "      <td>0.624400</td>\n",
       "    </tr>\n",
       "    <tr>\n",
       "      <td>700</td>\n",
       "      <td>0.668600</td>\n",
       "    </tr>\n",
       "    <tr>\n",
       "      <td>710</td>\n",
       "      <td>0.811000</td>\n",
       "    </tr>\n",
       "    <tr>\n",
       "      <td>720</td>\n",
       "      <td>0.641500</td>\n",
       "    </tr>\n",
       "    <tr>\n",
       "      <td>730</td>\n",
       "      <td>0.708100</td>\n",
       "    </tr>\n",
       "    <tr>\n",
       "      <td>740</td>\n",
       "      <td>0.642500</td>\n",
       "    </tr>\n",
       "    <tr>\n",
       "      <td>750</td>\n",
       "      <td>0.580400</td>\n",
       "    </tr>\n",
       "    <tr>\n",
       "      <td>760</td>\n",
       "      <td>0.573100</td>\n",
       "    </tr>\n",
       "    <tr>\n",
       "      <td>770</td>\n",
       "      <td>0.548300</td>\n",
       "    </tr>\n",
       "    <tr>\n",
       "      <td>780</td>\n",
       "      <td>0.638200</td>\n",
       "    </tr>\n",
       "    <tr>\n",
       "      <td>790</td>\n",
       "      <td>0.462300</td>\n",
       "    </tr>\n",
       "    <tr>\n",
       "      <td>800</td>\n",
       "      <td>0.547600</td>\n",
       "    </tr>\n",
       "    <tr>\n",
       "      <td>810</td>\n",
       "      <td>0.518300</td>\n",
       "    </tr>\n",
       "    <tr>\n",
       "      <td>820</td>\n",
       "      <td>0.582400</td>\n",
       "    </tr>\n",
       "    <tr>\n",
       "      <td>830</td>\n",
       "      <td>0.569100</td>\n",
       "    </tr>\n",
       "    <tr>\n",
       "      <td>840</td>\n",
       "      <td>0.586900</td>\n",
       "    </tr>\n",
       "  </tbody>\n",
       "</table><p>"
      ],
      "text/plain": [
       "<IPython.core.display.HTML object>"
      ]
     },
     "metadata": {},
     "output_type": "display_data"
    },
    {
     "data": {
      "text/plain": [
       "TrainOutput(global_step=840, training_loss=0.9259893110820225, metrics={'train_runtime': 420.6802, 'train_samples_per_second': 15.927, 'train_steps_per_second': 1.997, 'total_flos': 805689296942400.0, 'train_loss': 0.9259893110820225, 'epoch': 5.0})"
      ]
     },
     "execution_count": 11,
     "metadata": {},
     "output_type": "execute_result"
    },
    {
     "name": "stdout",
     "output_type": "stream",
     "text": [
      "Error in callback <bound method _WandbInit._pause_backend of <wandb.sdk.wandb_init._WandbInit object at 0x7f7c41c66c10>> (for post_run_cell), with arguments args (<ExecutionResult object at 7f7c41bfb350, execution_count=11 error_before_exec=None error_in_exec=None info=<ExecutionInfo object at 7f7c41afb450, raw_cell=\"# Fine-tune the model\n",
      "trainer.train()\" store_history=True silent=False shell_futures=True cell_id=f01ca77e-fb7c-4f42-86ec-74977baf5d67> result=TrainOutput(global_step=840, training_loss=0.9259893110820225, metrics={'train_runtime': 420.6802, 'train_samples_per_second': 15.927, 'train_steps_per_second': 1.997, 'total_flos': 805689296942400.0, 'train_loss': 0.9259893110820225, 'epoch': 5.0})>,),kwargs {}:\n"
     ]
    },
    {
     "ename": "TypeError",
     "evalue": "_WandbInit._pause_backend() takes 1 positional argument but 2 were given",
     "output_type": "error",
     "traceback": [
      "\u001b[0;31m---------------------------------------------------------------------------\u001b[0m",
      "\u001b[0;31mTypeError\u001b[0m                                 Traceback (most recent call last)",
      "\u001b[0;31mTypeError\u001b[0m: _WandbInit._pause_backend() takes 1 positional argument but 2 were given"
     ]
    }
   ],
   "source": [
    "# Fine-tune the model\n",
    "trainer.train()"
   ]
  },
  {
   "cell_type": "code",
   "execution_count": 12,
   "id": "9371c2d0-8be7-4549-a0be-e458767ff950",
   "metadata": {
    "execution": {
     "iopub.execute_input": "2025-06-19T00:12:54.707464Z",
     "iopub.status.busy": "2025-06-19T00:12:54.707008Z",
     "iopub.status.idle": "2025-06-19T00:12:55.770840Z",
     "shell.execute_reply": "2025-06-19T00:12:55.770203Z",
     "shell.execute_reply.started": "2025-06-19T00:12:54.707425Z"
    }
   },
   "outputs": [
    {
     "name": "stdout",
     "output_type": "stream",
     "text": [
      "Error in callback <bound method _WandbInit._resume_backend of <wandb.sdk.wandb_init._WandbInit object at 0x7f7c41c66c10>> (for pre_run_cell), with arguments args (<ExecutionInfo object at 7f7da8494610, raw_cell=\"trainer.save_model(\"../certainty_model\")\" store_history=True silent=False shell_futures=True cell_id=9371c2d0-8be7-4549-a0be-e458767ff950>,),kwargs {}:\n"
     ]
    },
    {
     "ename": "TypeError",
     "evalue": "_WandbInit._resume_backend() takes 1 positional argument but 2 were given",
     "output_type": "error",
     "traceback": [
      "\u001b[0;31m---------------------------------------------------------------------------\u001b[0m",
      "\u001b[0;31mTypeError\u001b[0m                                 Traceback (most recent call last)",
      "\u001b[0;31mTypeError\u001b[0m: _WandbInit._resume_backend() takes 1 positional argument but 2 were given"
     ]
    },
    {
     "name": "stdout",
     "output_type": "stream",
     "text": [
      "Error in callback <bound method _WandbInit._pause_backend of <wandb.sdk.wandb_init._WandbInit object at 0x7f7c41c66c10>> (for post_run_cell), with arguments args (<ExecutionResult object at 7f7c1812f610, execution_count=12 error_before_exec=None error_in_exec=None info=<ExecutionInfo object at 7f7da8494610, raw_cell=\"trainer.save_model(\"../certainty_model\")\" store_history=True silent=False shell_futures=True cell_id=9371c2d0-8be7-4549-a0be-e458767ff950> result=None>,),kwargs {}:\n"
     ]
    },
    {
     "ename": "TypeError",
     "evalue": "_WandbInit._pause_backend() takes 1 positional argument but 2 were given",
     "output_type": "error",
     "traceback": [
      "\u001b[0;31m---------------------------------------------------------------------------\u001b[0m",
      "\u001b[0;31mTypeError\u001b[0m                                 Traceback (most recent call last)",
      "\u001b[0;31mTypeError\u001b[0m: _WandbInit._pause_backend() takes 1 positional argument but 2 were given"
     ]
    }
   ],
   "source": [
    "trainer.save_model(\"../certainty_model\")"
   ]
  },
  {
   "cell_type": "code",
   "execution_count": 13,
   "id": "c193ebf5-d3b6-4db5-8ea3-13c9f6ac7934",
   "metadata": {
    "execution": {
     "iopub.execute_input": "2025-06-19T00:13:29.074969Z",
     "iopub.status.busy": "2025-06-19T00:13:29.074073Z",
     "iopub.status.idle": "2025-06-19T00:13:34.967753Z",
     "shell.execute_reply": "2025-06-19T00:13:34.966811Z",
     "shell.execute_reply.started": "2025-06-19T00:13:29.074916Z"
    }
   },
   "outputs": [
    {
     "name": "stdout",
     "output_type": "stream",
     "text": [
      "Error in callback <bound method _WandbInit._resume_backend of <wandb.sdk.wandb_init._WandbInit object at 0x7f7c41c66c10>> (for pre_run_cell), with arguments args (<ExecutionInfo object at 7f7c181bd010, raw_cell=\"pred = trainer.predict(test_dataset)\" store_history=True silent=False shell_futures=True cell_id=c193ebf5-d3b6-4db5-8ea3-13c9f6ac7934>,),kwargs {}:\n"
     ]
    },
    {
     "ename": "TypeError",
     "evalue": "_WandbInit._resume_backend() takes 1 positional argument but 2 were given",
     "output_type": "error",
     "traceback": [
      "\u001b[0;31m---------------------------------------------------------------------------\u001b[0m",
      "\u001b[0;31mTypeError\u001b[0m                                 Traceback (most recent call last)",
      "\u001b[0;31mTypeError\u001b[0m: _WandbInit._resume_backend() takes 1 positional argument but 2 were given"
     ]
    },
    {
     "data": {
      "text/html": [],
      "text/plain": [
       "<IPython.core.display.HTML object>"
      ]
     },
     "metadata": {},
     "output_type": "display_data"
    },
    {
     "name": "stdout",
     "output_type": "stream",
     "text": [
      "Error in callback <bound method _WandbInit._pause_backend of <wandb.sdk.wandb_init._WandbInit object at 0x7f7c41c66c10>> (for post_run_cell), with arguments args (<ExecutionResult object at 7f7c41c65c90, execution_count=13 error_before_exec=None error_in_exec=None info=<ExecutionInfo object at 7f7c181bd010, raw_cell=\"pred = trainer.predict(test_dataset)\" store_history=True silent=False shell_futures=True cell_id=c193ebf5-d3b6-4db5-8ea3-13c9f6ac7934> result=None>,),kwargs {}:\n"
     ]
    },
    {
     "ename": "TypeError",
     "evalue": "_WandbInit._pause_backend() takes 1 positional argument but 2 were given",
     "output_type": "error",
     "traceback": [
      "\u001b[0;31m---------------------------------------------------------------------------\u001b[0m",
      "\u001b[0;31mTypeError\u001b[0m                                 Traceback (most recent call last)",
      "\u001b[0;31mTypeError\u001b[0m: _WandbInit._pause_backend() takes 1 positional argument but 2 were given"
     ]
    }
   ],
   "source": [
    "pred = trainer.predict(test_dataset)"
   ]
  },
  {
   "cell_type": "code",
   "execution_count": 14,
   "id": "171c5bff-127d-4db3-816d-46172c682ec2",
   "metadata": {
    "execution": {
     "iopub.execute_input": "2025-06-19T00:14:01.718087Z",
     "iopub.status.busy": "2025-06-19T00:14:01.717529Z",
     "iopub.status.idle": "2025-06-19T00:14:01.776644Z",
     "shell.execute_reply": "2025-06-19T00:14:01.775131Z",
     "shell.execute_reply.started": "2025-06-19T00:14:01.718047Z"
    }
   },
   "outputs": [
    {
     "name": "stdout",
     "output_type": "stream",
     "text": [
      "Error in callback <bound method _WandbInit._resume_backend of <wandb.sdk.wandb_init._WandbInit object at 0x7f7c41c66c10>> (for pre_run_cell), with arguments args (<ExecutionInfo object at 7f7c1812dc90, raw_cell=\"y_pred = pred.predictions.argmax(axis=1)\n",
      "from skle..\" store_history=True silent=False shell_futures=True cell_id=171c5bff-127d-4db3-816d-46172c682ec2>,),kwargs {}:\n"
     ]
    },
    {
     "ename": "TypeError",
     "evalue": "_WandbInit._resume_backend() takes 1 positional argument but 2 were given",
     "output_type": "error",
     "traceback": [
      "\u001b[0;31m---------------------------------------------------------------------------\u001b[0m",
      "\u001b[0;31mTypeError\u001b[0m                                 Traceback (most recent call last)",
      "\u001b[0;31mTypeError\u001b[0m: _WandbInit._resume_backend() takes 1 positional argument but 2 were given"
     ]
    },
    {
     "data": {
      "text/plain": [
       "0.40918129489558064"
      ]
     },
     "execution_count": 14,
     "metadata": {},
     "output_type": "execute_result"
    },
    {
     "name": "stdout",
     "output_type": "stream",
     "text": [
      "Error in callback <bound method _WandbInit._pause_backend of <wandb.sdk.wandb_init._WandbInit object at 0x7f7c41c66c10>> (for post_run_cell), with arguments args (<ExecutionResult object at 7f7c18163950, execution_count=14 error_before_exec=None error_in_exec=None info=<ExecutionInfo object at 7f7c1812dc90, raw_cell=\"y_pred = pred.predictions.argmax(axis=1)\n",
      "from skle..\" store_history=True silent=False shell_futures=True cell_id=171c5bff-127d-4db3-816d-46172c682ec2> result=0.40918129489558064>,),kwargs {}:\n"
     ]
    },
    {
     "ename": "TypeError",
     "evalue": "_WandbInit._pause_backend() takes 1 positional argument but 2 were given",
     "output_type": "error",
     "traceback": [
      "\u001b[0;31m---------------------------------------------------------------------------\u001b[0m",
      "\u001b[0;31mTypeError\u001b[0m                                 Traceback (most recent call last)",
      "\u001b[0;31mTypeError\u001b[0m: _WandbInit._pause_backend() takes 1 positional argument but 2 were given"
     ]
    }
   ],
   "source": [
    "y_pred = pred.predictions.argmax(axis=1)\n",
    "from sklearn.metrics import f1_score\n",
    "f1_score(list(test_dataset['labels']), list(y_pred), average='macro')"
   ]
  },
  {
   "cell_type": "code",
   "execution_count": 15,
   "id": "869fdb61-39f1-417d-a401-9f4f23a13d61",
   "metadata": {
    "execution": {
     "iopub.execute_input": "2025-06-19T00:14:06.350964Z",
     "iopub.status.busy": "2025-06-19T00:14:06.350465Z",
     "iopub.status.idle": "2025-06-19T00:14:06.383679Z",
     "shell.execute_reply": "2025-06-19T00:14:06.381898Z",
     "shell.execute_reply.started": "2025-06-19T00:14:06.350925Z"
    }
   },
   "outputs": [
    {
     "name": "stdout",
     "output_type": "stream",
     "text": [
      "Error in callback <bound method _WandbInit._resume_backend of <wandb.sdk.wandb_init._WandbInit object at 0x7f7c41c66c10>> (for pre_run_cell), with arguments args (<ExecutionInfo object at 7f7c1812ddd0, raw_cell=\"f1_score(test_dataset['labels'], pred.predictions...\" store_history=True silent=False shell_futures=True cell_id=869fdb61-39f1-417d-a401-9f4f23a13d61>,),kwargs {}:\n"
     ]
    },
    {
     "ename": "TypeError",
     "evalue": "_WandbInit._resume_backend() takes 1 positional argument but 2 were given",
     "output_type": "error",
     "traceback": [
      "\u001b[0;31m---------------------------------------------------------------------------\u001b[0m",
      "\u001b[0;31mTypeError\u001b[0m                                 Traceback (most recent call last)",
      "\u001b[0;31mTypeError\u001b[0m: _WandbInit._resume_backend() takes 1 positional argument but 2 were given"
     ]
    },
    {
     "data": {
      "text/plain": [
       "array([0.68707483, 0.47272727, 0.47692308, 0.        ])"
      ]
     },
     "execution_count": 15,
     "metadata": {},
     "output_type": "execute_result"
    },
    {
     "name": "stdout",
     "output_type": "stream",
     "text": [
      "Error in callback <bound method _WandbInit._pause_backend of <wandb.sdk.wandb_init._WandbInit object at 0x7f7c41c66c10>> (for post_run_cell), with arguments args (<ExecutionResult object at 7f7c181b02d0, execution_count=15 error_before_exec=None error_in_exec=None info=<ExecutionInfo object at 7f7c1812ddd0, raw_cell=\"f1_score(test_dataset['labels'], pred.predictions...\" store_history=True silent=False shell_futures=True cell_id=869fdb61-39f1-417d-a401-9f4f23a13d61> result=array([0.68707483, 0.47272727, 0.47692308, 0.        ])>,),kwargs {}:\n"
     ]
    },
    {
     "ename": "TypeError",
     "evalue": "_WandbInit._pause_backend() takes 1 positional argument but 2 were given",
     "output_type": "error",
     "traceback": [
      "\u001b[0;31m---------------------------------------------------------------------------\u001b[0m",
      "\u001b[0;31mTypeError\u001b[0m                                 Traceback (most recent call last)",
      "\u001b[0;31mTypeError\u001b[0m: _WandbInit._pause_backend() takes 1 positional argument but 2 were given"
     ]
    }
   ],
   "source": [
    "f1_score(test_dataset['labels'], pred.predictions.argmax(axis=1), average=None)"
   ]
  },
  {
   "cell_type": "code",
   "execution_count": 16,
   "id": "5b9fce05-38bd-4216-bb5e-08fe43dba2e6",
   "metadata": {
    "execution": {
     "iopub.execute_input": "2025-06-19T00:15:29.697632Z",
     "iopub.status.busy": "2025-06-19T00:15:29.697198Z",
     "iopub.status.idle": "2025-06-19T00:15:30.859918Z",
     "shell.execute_reply": "2025-06-19T00:15:30.858329Z",
     "shell.execute_reply.started": "2025-06-19T00:15:29.697596Z"
    }
   },
   "outputs": [
    {
     "name": "stdout",
     "output_type": "stream",
     "text": [
      "Error in callback <bound method _WandbInit._resume_backend of <wandb.sdk.wandb_init._WandbInit object at 0x7f7c41c66c10>> (for pre_run_cell), with arguments args (<ExecutionInfo object at 7f7c18190910, raw_cell=\"model.save_pretrained('certainty_model')\" store_history=True silent=False shell_futures=True cell_id=5b9fce05-38bd-4216-bb5e-08fe43dba2e6>,),kwargs {}:\n"
     ]
    },
    {
     "ename": "TypeError",
     "evalue": "_WandbInit._resume_backend() takes 1 positional argument but 2 were given",
     "output_type": "error",
     "traceback": [
      "\u001b[0;31m---------------------------------------------------------------------------\u001b[0m",
      "\u001b[0;31mTypeError\u001b[0m                                 Traceback (most recent call last)",
      "\u001b[0;31mTypeError\u001b[0m: _WandbInit._resume_backend() takes 1 positional argument but 2 were given"
     ]
    },
    {
     "name": "stdout",
     "output_type": "stream",
     "text": [
      "Error in callback <bound method _WandbInit._pause_backend of <wandb.sdk.wandb_init._WandbInit object at 0x7f7c41c66c10>> (for post_run_cell), with arguments args (<ExecutionResult object at 7f7c18136650, execution_count=16 error_before_exec=None error_in_exec=None info=<ExecutionInfo object at 7f7c18190910, raw_cell=\"model.save_pretrained('certainty_model')\" store_history=True silent=False shell_futures=True cell_id=5b9fce05-38bd-4216-bb5e-08fe43dba2e6> result=None>,),kwargs {}:\n"
     ]
    },
    {
     "ename": "TypeError",
     "evalue": "_WandbInit._pause_backend() takes 1 positional argument but 2 were given",
     "output_type": "error",
     "traceback": [
      "\u001b[0;31m---------------------------------------------------------------------------\u001b[0m",
      "\u001b[0;31mTypeError\u001b[0m                                 Traceback (most recent call last)",
      "\u001b[0;31mTypeError\u001b[0m: _WandbInit._pause_backend() takes 1 positional argument but 2 were given"
     ]
    }
   ],
   "source": [
    "model.save_pretrained('certainty_model')"
   ]
  },
  {
   "cell_type": "code",
   "execution_count": null,
   "id": "bb504e80-cb1b-4f56-8664-c98d8f0e10de",
   "metadata": {},
   "outputs": [],
   "source": []
  }
 ],
 "metadata": {
  "kernelspec": {
   "display_name": "Python 3 (ipykernel)",
   "language": "python",
   "name": "python3"
  },
  "language_info": {
   "codemirror_mode": {
    "name": "ipython",
    "version": 3
   },
   "file_extension": ".py",
   "mimetype": "text/x-python",
   "name": "python",
   "nbconvert_exporter": "python",
   "pygments_lexer": "ipython3",
   "version": "3.11.7"
  }
 },
 "nbformat": 4,
 "nbformat_minor": 5
}
